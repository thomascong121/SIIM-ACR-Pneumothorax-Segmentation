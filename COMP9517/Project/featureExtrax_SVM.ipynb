{
 "cells": [
  {
   "cell_type": "code",
   "execution_count": 24,
   "metadata": {},
   "outputs": [
    {
     "name": "stdout",
     "output_type": "stream",
     "text": [
      "(512, 512)\n"
     ]
    }
   ],
   "source": [
    "import pandas as pd\n",
    "import numpy as np \n",
    "import cv2\n",
    "\n",
    "img = cv2.imread(\"/Users/congcong/Desktop/COMP9517/Project/data-2/images/train-volume00.jpg\",0)\n",
    "mask = cv2.imread(\"/Users/congcong/Desktop/COMP9517/Project/data-2/labels/train-labels00.jpg\",0)\n",
    "print(img.shape)\n",
    "patch_size = 3\n",
    "# shape = (510,510,patch_size,patch_size)\n",
    "# patches = np.lib.stride_tricks.as_strided(img,shape=shape,strides=2*img.strides)\n",
    "def patchGen(img,label,patch_size,npatch):\n",
    "    h,w = img.shape\n",
    "    #patch_size should be odd\n",
    "    if(patch_size%2 == 0):\n",
    "        patch_size += 1\n",
    "    #image side cut\n",
    "    cut = patch_size // 2\n",
    "    #randomly select npatch patches\n",
    "    patchMatrx = []\n",
    "    patchLabel = []\n",
    "    for i in range(npatch):\n",
    "        randomHeight = np.random.randint(low = cut,high = h-cut,size = 1)\n",
    "        randomWeight = np.random.randint(low = cut,high = w-cut,size = 1)\n",
    "        labels = label[randomWeight,randomHeight]\n",
    "        \n",
    "        rowS = randomWeight-cut\n",
    "        colS = randomHeight-cut\n",
    "        matrxImg = []\n",
    "\n",
    "        for j in range(patch_size):#0,1,2\n",
    "            rowImg = []\n",
    "            for k in range(patch_size):\n",
    "                pixel = img[rowS+k,colS+j]\n",
    "                rowImg.append(pixel)\n",
    "            matrxImg.append(rowImg)\n",
    "        patchMatrx.append(matrxImg)\n",
    "        patchLabel.append(labels)\n",
    "    return np.array(patchMatrx),np.array(patchLabel)  \n",
    "               \n",
    "patches,maskPatch = patchGen(img,mask,3,20)\n",
    "patchNeed = patches.reshape((patches.shape[0],patches.shape[1],patches.shape[2]))\n"
   ]
  },
  {
   "cell_type": "code",
   "execution_count": 32,
   "metadata": {},
   "outputs": [],
   "source": []
  },
  {
   "cell_type": "code",
   "execution_count": 38,
   "metadata": {},
   "outputs": [],
   "source": [
    "def evalPatch(testImg,patch_size):\n",
    "    h,w = testImg.shape\n",
    "    #patch_size should be odd\n",
    "    if(patch_size%2 == 0):\n",
    "        patch_size += 1\n",
    "    #image side cut\n",
    "    cut = patch_size // 2  \n",
    "    patches = []\n",
    "    for row in range(cut,w-cut):\n",
    "        for col in range(cut,h-cut):\n",
    "            rowS = row-cut\n",
    "            colS = col-cut\n",
    "            matrxImg = []\n",
    "            for j in range(patch_size):#0,1,2\n",
    "                rowImg = []\n",
    "                for k in range(patch_size):\n",
    "                    pixel = testImg[rowS+k,colS+j]\n",
    "                    rowImg.append(pixel)\n",
    "                matrxImg.append(rowImg)\n",
    "            patches.append(matrxImg)\n",
    "    return np.array(patches)\n",
    "            \n",
    "    \n",
    "    \n",
    "    \n",
    "    "
   ]
  },
  {
   "cell_type": "code",
   "execution_count": 39,
   "metadata": {},
   "outputs": [],
   "source": [
    "patches = evalPatch(img,3)"
   ]
  },
  {
   "cell_type": "code",
   "execution_count": 40,
   "metadata": {},
   "outputs": [
    {
     "data": {
      "text/plain": [
       "(260100, 3, 3)"
      ]
     },
     "execution_count": 40,
     "metadata": {},
     "output_type": "execute_result"
    }
   ],
   "source": [
    "patches.shape"
   ]
  },
  {
   "cell_type": "code",
   "execution_count": 41,
   "metadata": {},
   "outputs": [],
   "source": [
    "imagePaths = [\"ww\" + f'/{i:d}_predict.tif' for i in range(30)]"
   ]
  },
  {
   "cell_type": "code",
   "execution_count": 42,
   "metadata": {},
   "outputs": [
    {
     "data": {
      "text/plain": [
       "['ww/0_predict.tif',\n",
       " 'ww/1_predict.tif',\n",
       " 'ww/2_predict.tif',\n",
       " 'ww/3_predict.tif',\n",
       " 'ww/4_predict.tif',\n",
       " 'ww/5_predict.tif',\n",
       " 'ww/6_predict.tif',\n",
       " 'ww/7_predict.tif',\n",
       " 'ww/8_predict.tif',\n",
       " 'ww/9_predict.tif',\n",
       " 'ww/10_predict.tif',\n",
       " 'ww/11_predict.tif',\n",
       " 'ww/12_predict.tif',\n",
       " 'ww/13_predict.tif',\n",
       " 'ww/14_predict.tif',\n",
       " 'ww/15_predict.tif',\n",
       " 'ww/16_predict.tif',\n",
       " 'ww/17_predict.tif',\n",
       " 'ww/18_predict.tif',\n",
       " 'ww/19_predict.tif',\n",
       " 'ww/20_predict.tif',\n",
       " 'ww/21_predict.tif',\n",
       " 'ww/22_predict.tif',\n",
       " 'ww/23_predict.tif',\n",
       " 'ww/24_predict.tif',\n",
       " 'ww/25_predict.tif',\n",
       " 'ww/26_predict.tif',\n",
       " 'ww/27_predict.tif',\n",
       " 'ww/28_predict.tif',\n",
       " 'ww/29_predict.tif']"
      ]
     },
     "execution_count": 42,
     "metadata": {},
     "output_type": "execute_result"
    }
   ],
   "source": [
    "imagePaths"
   ]
  },
  {
   "cell_type": "code",
   "execution_count": null,
   "metadata": {},
   "outputs": [],
   "source": []
  }
 ],
 "metadata": {
  "kernelspec": {
   "display_name": "Python 3",
   "language": "python",
   "name": "python3"
  },
  "language_info": {
   "codemirror_mode": {
    "name": "ipython",
    "version": 3
   },
   "file_extension": ".py",
   "mimetype": "text/x-python",
   "name": "python",
   "nbconvert_exporter": "python",
   "pygments_lexer": "ipython3",
   "version": "3.7.1"
  }
 },
 "nbformat": 4,
 "nbformat_minor": 2
}
