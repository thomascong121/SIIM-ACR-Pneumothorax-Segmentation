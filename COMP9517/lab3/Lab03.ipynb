{
 "cells": [
  {
   "cell_type": "code",
   "execution_count": 43,
   "metadata": {},
   "outputs": [
    {
     "name": "stdout",
     "output_type": "stream",
     "text": [
      "(1797, 64)\n",
      "(1797,)\n",
      "(8, 8)\n",
      "[[ 0.  0.  5. ...  0.  0.  0.]\n",
      " [ 0.  0.  0. ... 10.  0.  0.]\n",
      " [ 0.  0.  0. ... 16.  9.  0.]\n",
      " ...\n",
      " [ 0.  0.  1. ...  6.  0.  0.]\n",
      " [ 0.  0.  2. ... 12.  0.  0.]\n",
      " [ 0.  0. 10. ... 12.  1.  0.]]\n"
     ]
    }
   ],
   "source": [
    "from sklearn import datasets\n",
    "mnist = datasets.load_digits()\n",
    "print(mnist.data.shape)\n",
    "#need 1. data 2. target\n",
    "print(mnist.target.shape)\n",
    "print(mnist.images[0].shape)\n",
    "print(mnist.data)"
   ]
  },
  {
   "cell_type": "code",
   "execution_count": 74,
   "metadata": {},
   "outputs": [],
   "source": [
    "import cv2,os,re,numpy\n",
    "from matplotlib import pyplot as plt\n",
    "\n",
    "\n",
    "def image_to_feature_vector(image, size=(64, 64)):\n",
    "    # resize the image to a fixed size, then flatten the image into\n",
    "    # a list of raw pixel intensities\n",
    "    return cv2.resize(image, size).flatten()\n",
    "\n",
    "numbers = {\"eight\":8,\"five\":5,\"four\":4,\"nine\":9,\"one\":1,\"seven\":7,\"six\":6,\"three\":3,\"two\":2,\"zero\":0}\n",
    "data_array = []#numpy.array([])\n",
    "class_array = []#numpy.array([])\n",
    "count = 0\n",
    "for filename in os.listdir(\"./data\"):\n",
    "    n = re.search('(.+?)_', filename)\n",
    "    target = numbers[n.group(1)]\n",
    "    image = cv2.imread(\"./data/{0}\".format(filename))\n",
    "    image_flatten = image_to_feature_vector(image)\n",
    "#     if(data_array.size == 0):\n",
    "#         data_array = image_flatten\n",
    "#     else:\n",
    "#         data_array = numpy.concatenate((data_array,image_flatten))\n",
    "    #class_array = numpy.append(class_array,target)\n",
    "    data_array.append(image_flatten)\n",
    "    class_array.append(target)\n",
    "\n",
    "    \n",
    "    "
   ]
  },
  {
   "cell_type": "code",
   "execution_count": 60,
   "metadata": {},
   "outputs": [
    {
     "name": "stdout",
     "output_type": "stream",
     "text": [
      "5000\n",
      "5000\n"
     ]
    }
   ],
   "source": [
    "print(len(data_array))\n",
    "print(len(class_array))"
   ]
  },
  {
   "cell_type": "code",
   "execution_count": 75,
   "metadata": {},
   "outputs": [
    {
     "name": "stdout",
     "output_type": "stream",
     "text": [
      "accuracy is:  0.954\n",
      "Confusion matrix\n",
      "[[116   0   0   0   0   0   0   0   0   0]\n",
      " [  0  94   0   0   0   0   0   1   0   0]\n",
      " [  0   1  93   0   0   0   0   1   1   0]\n",
      " [  0   1   1  88   0   1   1   3   1   0]\n",
      " [  0   1   0   0  87   0   0   0   0   5]\n",
      " [  0   1   0   2   0 113   1   0   0   1]\n",
      " [  1   0   0   0   0   2  81   0   0   0]\n",
      " [  0   1   0   0   1   1   0  94   0   0]\n",
      " [  0   3   0   3   1   1   2   0 102   0]\n",
      " [  1   1   1   0   2   0   1   1   0  86]]\n",
      "EVALUATION ON TESTING DATA\n",
      "              precision    recall  f1-score   support\n",
      "\n",
      "           0       0.98      1.00      0.99       116\n",
      "           1       0.91      0.99      0.95        95\n",
      "           2       0.98      0.97      0.97        96\n",
      "           3       0.95      0.92      0.93        96\n",
      "           4       0.96      0.94      0.95        93\n",
      "           5       0.96      0.96      0.96       118\n",
      "           6       0.94      0.96      0.95        84\n",
      "           7       0.94      0.97      0.95        97\n",
      "           8       0.98      0.91      0.94       112\n",
      "           9       0.93      0.92      0.93        93\n",
      "\n",
      "   micro avg       0.95      0.95      0.95      1000\n",
      "   macro avg       0.95      0.95      0.95      1000\n",
      "weighted avg       0.95      0.95      0.95      1000\n",
      "\n"
     ]
    }
   ],
   "source": [
    "from sklearn.model_selection import train_test_split\n",
    "from sklearn.neighbors import KNeighborsClassifier\n",
    "from sklearn.metrics import confusion_matrix\n",
    "from sklearn.metrics import classification_report\n",
    "\n",
    "(trainData, testData, trainLabels, testLabels) = train_test_split(data_array,\n",
    "class_array, test_size=0.2, random_state=42)\n",
    "neigh = KNeighborsClassifier(n_neighbors=5)\n",
    "neigh.fit(trainData,trainLabels) \n",
    "acc = neigh.score(testData, testLabels)\n",
    "print(\"accuracy is: \",acc)\n",
    "\n",
    "predictions = neigh.predict(testData)\n",
    "print (\"Confusion matrix\")\n",
    "print(confusion_matrix(testLabels,predictions))\n",
    "\n",
    "print(\"EVALUATION ON TESTING DATA\")\n",
    "print(classification_report(testLabels, predictions))\n",
    "\n"
   ]
  },
  {
   "cell_type": "code",
   "execution_count": 79,
   "metadata": {},
   "outputs": [
    {
     "data": {
      "text/plain": [
       "<function dict.get(key, default=None, /)>"
      ]
     },
     "execution_count": 79,
     "metadata": {},
     "output_type": "execute_result"
    }
   ],
   "source": [
    "k = {1:95.1,2:94,3:95.4}\n",
    "\n",
    "max(k, key=k.get)"
   ]
  },
  {
   "cell_type": "code",
   "execution_count": null,
   "metadata": {},
   "outputs": [],
   "source": []
  },
  {
   "cell_type": "code",
   "execution_count": null,
   "metadata": {},
   "outputs": [],
   "source": []
  }
 ],
 "metadata": {
  "kernelspec": {
   "display_name": "Python 3",
   "language": "python",
   "name": "python3"
  },
  "language_info": {
   "codemirror_mode": {
    "name": "ipython",
    "version": 3
   },
   "file_extension": ".py",
   "mimetype": "text/x-python",
   "name": "python",
   "nbconvert_exporter": "python",
   "pygments_lexer": "ipython3",
   "version": "3.7.1"
  }
 },
 "nbformat": 4,
 "nbformat_minor": 2
}
